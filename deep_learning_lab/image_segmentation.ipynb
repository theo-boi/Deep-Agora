{
 "cells": [
  {
   "cell_type": "markdown",
   "id": "sUovxdTuo0tg",
   "metadata": {
    "id": "sUovxdTuo0tg"
   },
   "source": [
    "# Set up the environment"
   ]
  },
  {
   "cell_type": "markdown",
   "id": "FUTemTM5pa-w",
   "metadata": {
    "id": "FUTemTM5pa-w",
    "tags": []
   },
   "source": [
    "# Training data preparation"
   ]
  },
  {
   "cell_type": "code",
   "execution_count": 1,
   "id": "20b6354a-011a-4990-a4d3-e9ceb7a3b855",
   "metadata": {},
   "outputs": [
    {
     "name": "stdout",
     "output_type": "stream",
     "text": [
      "mkdir: impossible de créer le répertoire «raw_datasets»: Le fichier existe\n"
     ]
    }
   ],
   "source": [
    "!mkdir raw_datasets"
   ]
  },
  {
   "cell_type": "markdown",
   "id": "x0mXqhPMp6cQ",
   "metadata": {
    "id": "x0mXqhPMp6cQ"
   },
   "source": [
    "## Download datasets"
   ]
  },
  {
   "cell_type": "code",
   "execution_count": 2,
   "id": "xw7W59vsIg3s",
   "metadata": {
    "colab": {
     "base_uri": "https://localhost:8080/"
    },
    "id": "xw7W59vsIg3s",
    "outputId": "d2059742-f80a-4967-cd25-ce754c4a6a0d"
   },
   "outputs": [
    {
     "name": "stdout",
     "output_type": "stream",
     "text": [
      "/home/21804803t@univ-tours.local/Deep-Agora/deep_learning_lab/raw_datasets\n",
      "/home/21804803t@univ-tours.local/Deep-Agora/deep_learning_lab\n"
     ]
    }
   ],
   "source": [
    "# Download datasets\n",
    "\n",
    "%cd raw_datasets/\n",
    "\"\"\"\n",
    "!unzip -q REID2019.zip -d ./\n",
    "!unzip -q REID2019/REID2019_ExampleSet.zip -d REID2019/\n",
    "!rm REID2019/REID2019_ExampleSet.zip\n",
    "\n",
    "!wget -N -q --show-progress -P ./ https://zenodo.org/record/257972/files/Train%20-%20Baseline%20Competition%20-%20Simple%20Documents.tar.gz\n",
    "!tar --keep-newer-files -xzf \"Train - Baseline Competition - Simple Documents.tar.gz\" -C ./ 2>/dev/null\n",
    "\n",
    "!wget -N -q --show-progress -P ./ https://zenodo.org/record/257972/files/Train%20-%20Baseline%20Competition%20-%20Complex%20Documents.tar.gz\n",
    "!tar --keep-newer-files -xzf \"Train - Baseline Competition - Complex Documents.tar.gz\" -C ./ 2>/dev/null\n",
    "\n",
    "!wget -N -q --show-progress -P ./ https://zenodo.org/record/3945088/files/FCR_500.tar.gz\n",
    "!tar --keep-newer-files -xzf FCR_500.tar.gz -C ./ 2>/dev/null\n",
    "\"\"\"\n",
    "%cd ../"
   ]
  },
  {
   "cell_type": "markdown",
   "id": "uKAZHoFLp-ck",
   "metadata": {
    "id": "uKAZHoFLp-ck"
   },
   "source": [
    "## Patch the datasets"
   ]
  },
  {
   "cell_type": "code",
   "execution_count": 3,
   "id": "2761bba7-c72b-43f5-845a-70c44bf82e15",
   "metadata": {},
   "outputs": [],
   "source": [
    "#!rm -r _*_ # Delete the patched datasets"
   ]
  },
  {
   "cell_type": "code",
   "execution_count": 4,
   "id": "Om4ZyowrIg6c",
   "metadata": {
    "colab": {
     "base_uri": "https://localhost:8080/",
     "height": 620
    },
    "id": "Om4ZyowrIg6c",
    "outputId": "a3899003-7101-47ad-d8be-c6e11fd13b10",
    "tags": []
   },
   "outputs": [],
   "source": [
    "## Patch the datasets\n",
    "\n",
    "import training_data.pipelines as pipeline\n",
    "\n",
    "configured_labels = (['TextRegion'], ['TextLine'], ['ImageRegion'])#, ['TextLine'], ['TextRegion', 'TextLine']) # Atomic labels are to be promoted\n",
    "\n",
    "to_be_patched = {\n",
    "    #d : pipeline.selectAnnotationsFrom(d) # Interactive\n",
    "    d : configured_labels # Automatic (Warning: Depends on the datasets below)\n",
    "    for d in (\n",
    "        #'bcs_a', 'bcc_a',\n",
    "        #'bcs_b', 'bcc_b',\n",
    "        #'bcs_e', 'bcc_e',\n",
    "        #'bcs_h', 'bcc_h',\n",
    "        #'bcs_n', 'bcc_n',\n",
    "        #'bcs_s', 'bcc_s',\n",
    "        #'bcs_u', \n",
    "        #'bcc_u',\n",
    "        #'bcs_un','bcc_un',\n",
    "        #'bcc_bh',\n",
    "        #'fcr',\n",
    "        #'reid',\n",
    "    )\n",
    "}\n",
    "\n",
    "for dataset, chosen_annotations in to_be_patched.items():\n",
    "    for chosen_labels in chosen_annotations:\n",
    "        pipeline.annotationsToMasks(\n",
    "            src= dataset,\n",
    "            names_labels= chosen_labels,\n",
    "            verbose= 1\n",
    "        )"
   ]
  },
  {
   "cell_type": "markdown",
   "id": "7jNGdu-mow2R",
   "metadata": {
    "id": "7jNGdu-mow2R"
   },
   "source": [
    "# Deep learning lab"
   ]
  },
  {
   "cell_type": "code",
   "execution_count": 5,
   "id": "bf63e826-8b88-48e2-8e87-7488e024d92c",
   "metadata": {
    "id": "bf63e826-8b88-48e2-8e87-7488e024d92c"
   },
   "outputs": [],
   "source": [
    "## Imports\n",
    "\n",
    "from dh_segment_torch.config import Params\n",
    "from dh_segment_torch.data import DataSplitter\n",
    "from dh_segment_torch.data.annotation import AnnotationWriter\n",
    "from dh_segment_torch.training import Trainer\n",
    "from dh_segment_torch.inference import PredictProcess\n",
    "from dh_segment_torch.post_processing import PostProcessingPipeline"
   ]
  },
  {
   "cell_type": "code",
   "execution_count": 6,
   "id": "1147e6c0-294f-459f-b759-953a21f9033b",
   "metadata": {},
   "outputs": [
    {
     "name": "stdout",
     "output_type": "stream",
     "text": [
      "=== CUDA device selection ===\n",
      "device 0:  _CudaDeviceProperties(name='RTX A6000', major=8, minor=6, total_memory=48685MB, multi_processor_count=84)\n",
      "device 1:  _CudaDeviceProperties(name='Quadro RTX 8000', major=7, minor=5, total_memory=48601MB, multi_processor_count=72)\n"
     ]
    }
   ],
   "source": [
    "import torch\n",
    "import os\n",
    "\n",
    "print(\"=== CUDA device selection ===\")\n",
    "\n",
    "assert torch.cuda.device_count() >= 1\n",
    "\n",
    "print(\"device 0: \",torch.cuda.get_device_properties(0)) \n",
    "print(\"device 1: \",torch.cuda.get_device_properties(1))\n",
    "\n",
    "cuda_device = 0\n",
    "cuda_device_str = str(cuda_device)\n",
    "\n",
    "os.environ[\"CUDA_DEVICE_ORDER\"]=\"PCI_BUS_ID\"\n",
    "os.environ[\"CUDA_VISIBLE_DEVICES\"]=cuda_device_str\n",
    "torch.cuda.set_device(cuda_device)"
   ]
  },
  {
   "cell_type": "code",
   "execution_count": 7,
   "id": "627a66e2-ab4d-4e25-a7a6-1330e56fb2eb",
   "metadata": {},
   "outputs": [
    {
     "name": "stdout",
     "output_type": "stream",
     "text": [
      "=== torch cuda ===\n",
      "cuda: 11.3  device =  0\n",
      "The selected GPU has 48.69 GB of memory.\n",
      "torch: 1.12.1\n",
      "The GPU has 48.69 GB of memory.\n"
     ]
    }
   ],
   "source": [
    "print(\"=== torch cuda ===\")\n",
    "\n",
    "print(\"cuda:\",torch.version.cuda,\" device = \",torch.cuda.current_device())\n",
    "print(\"The selected GPU has %.2f GB of memory.\"%(torch.cuda.get_device_properties(0).total_memory//1024**2/1000))\n",
    "print(\"torch:\",torch.__version__)\n",
    "\n",
    "# type \"nvidia-smi\" on linux prompt for info about CUDA\n",
    "print(\"The GPU has %.2f GB of memory.\"%(torch.cuda.get_device_properties(0).total_memory//1024**2/1000))"
   ]
  },
  {
   "cell_type": "code",
   "execution_count": 8,
   "id": "d0840303-3e1b-44a3-babc-ad32f9ca401e",
   "metadata": {
    "id": "d0840303-3e1b-44a3-babc-ad32f9ca401e"
   },
   "outputs": [],
   "source": [
    "import pandas as pd\n",
    "import numpy as np\n",
    "from PIL import Image, ImageDraw, ImageColor\n",
    "import os, glob, json, cv2, collections, torch"
   ]
  },
  {
   "cell_type": "markdown",
   "id": "GH7zWNcfqlt7",
   "metadata": {
    "id": "GH7zWNcfqlt7",
    "tags": []
   },
   "source": [
    "## Training parameters"
   ]
  },
  {
   "cell_type": "code",
   "execution_count": 9,
   "id": "aa6024ab-d458-439e-9037-7f766880cfb8",
   "metadata": {
    "id": "aa6024ab-d458-439e-9037-7f766880cfb8"
   },
   "outputs": [],
   "source": [
    "## Loading data\n",
    "\n",
    "folder_name = '_TextRegion_' # Change this parameter to your project name\n",
    "\n",
    "params = {\n",
    "    'data_path' : os.path.join(folder_name, 'data'), # Path to write the data\n",
    "    'data_splitter': {'train_ratio': 0.80, 'val_ratio': 0.10, 'test_ratio': 0.10}, # splitting ratio of the data\n",
    "}\n",
    "\n",
    "data_path = params.pop(\"data_path\")"
   ]
  },
  {
   "cell_type": "code",
   "execution_count": 10,
   "id": "ce66e279-7908-4e1b-aa7d-5aacd2cb2dfe",
   "metadata": {
    "id": "ce66e279-7908-4e1b-aa7d-5aacd2cb2dfe"
   },
   "outputs": [],
   "source": [
    "## Process parameters\n",
    "\n",
    "relative_path = params.pop(\"relative_path\", True)\n",
    "\n",
    "params.setdefault(\"labels_dir\", os.path.join(data_path, \"labels\"))\n",
    "labels_dir = params.get(\"labels_dir\")\n",
    "\n",
    "params.setdefault(\"images_dir\", os.path.join(data_path, \"images\"))\n",
    "images_dir = params.get(\"images_dir\")\n",
    "\n",
    "params.setdefault(\"csv_path\", os.path.join(data_path, \"data.csv\"))\n",
    "\n",
    "data_splitter_params = params.pop(\"data_splitter\", None)\n",
    "train_csv_path = params.pop(\"train_csv\", os.path.join(data_path, \"train.csv\"))\n",
    "val_csv_path = params.pop(\"val_csv\", os.path.join(data_path, \"val.csv\"))\n",
    "test_csv_path = params.pop(\"test_csv\", os.path.join(data_path, \"test.csv\"))\n",
    "\n",
    "## List labels and images in CSV file\n",
    "\n",
    "labels_list = sorted(glob.glob(os.path.join(labels_dir, '*.*')))\n",
    "images_list = sorted(glob.glob(os.path.join(images_dir, '*.*')))\n",
    "\n",
    "data = pd.DataFrame({'image': images_list, 'label': labels_list})\n",
    "data.to_csv(params['csv_path'], header=False, index=False)\n",
    "\n",
    "if relative_path:\n",
    "    data['image'] = data['image'].apply(lambda path: os.path.join(\"images\", os.path.basename(path)))\n",
    "    data['label'] = data['label'].apply(lambda path: os.path.join(\"labels\", os.path.basename(path)))\n",
    "    \n",
    "## Divide data set in train, validation and test sets\n",
    "if data_splitter_params:\n",
    "    data_splitter = DataSplitter.from_params(data_splitter_params)\n",
    "    data_splitter.split_data(data, train_csv_path, val_csv_path, test_csv_path)"
   ]
  },
  {
   "cell_type": "code",
   "execution_count": 11,
   "id": "81541260-05a1-4a9f-973b-abb0526666e2",
   "metadata": {
    "id": "81541260-05a1-4a9f-973b-abb0526666e2"
   },
   "outputs": [],
   "source": [
    "## Training params\n",
    "\n",
    "params = {\n",
    "    \"color_labels\": {\"label_json_file\": os.path.join(data_path, \"classfile.json\")}, # Color labels produced before\n",
    "    \"train_dataset\": {\n",
    "        \"type\": \"image_csv\", # Image csv dataset\n",
    "        \"csv_filename\": os.path.join(data_path, \"train.csv\"),\n",
    "        \"base_dir\": data_path,\n",
    "        \"repeat_dataset\": 4, # Repeat 4 times the data since we have little\n",
    "        \"compose\": {\"transforms\": [{\"type\": \"fixed_size_resize\", \"output_size\": 1e6}]} # Resize to a fixed size, could add other transformations.\n",
    "    },\n",
    "    \"val_dataset\": {\n",
    "        \"type\": \"image_csv\", # Validation dataset\n",
    "        \"csv_filename\": os.path.join(data_path, \"val.csv\"),\n",
    "        \"base_dir\": data_path,\n",
    "        \"compose\": {\"transforms\": [{\"type\": \"fixed_size_resize\", \"output_size\": 1e6}]}\n",
    "    },\n",
    "    \"model\": { # Model definition, original dhSegment\n",
    "        \"encoder\": \"resnet50\", \n",
    "        \"decoder\": {\n",
    "            \"decoder_channels\": [512, 256, 128, 64, 32],\n",
    "            \"max_channels\": 512\n",
    "        }\n",
    "    },\n",
    "    \"metrics\": [['miou', 'iou'], ['iou', {\"type\": 'iou', \"average\": None}], 'precision'], # Metrics to compute\n",
    "    \"optimizer\": {\"lr\": 1e-4}, # Learning rate\n",
    "    \"lr_scheduler\": {\"type\": \"exponential\", \"gamma\": 0.9995}, # Exponential decreasing learning rate\n",
    "    \"val_metric\": \"+miou\", # Metric to observe to consider a model better than another, the + indicates that we want to maximize\n",
    "    \"early_stopping\": {\"patience\": 4}, # Number of validation steps without increase to tolerate, stops if reached\n",
    "    \"model_out_dir\": \"model_test\", # Path to model output\n",
    "    \"num_epochs\": 100, # Number of epochs for training\n",
    "    \"evaluate_every_epoch\": 5, # Number of epochs between each validation of the model\n",
    "    \"batch_size\": 4, # Batch size (to be changed if the allocated GPU has little memory)\n",
    "    \"num_data_workers\": 0,\n",
    "    \"track_train_metrics\": False,\n",
    "    \"loggers\": [\n",
    "        {\"type\": 'tensorboard', \"log_dir\": os.path.join('.', 'tensorboard', 'log'), \"log_every\": 5, \"log_images_every\": 10}, # Tensorboard logging\n",
    "        ]\n",
    "}"
   ]
  },
  {
   "cell_type": "markdown",
   "id": "TivgfIJEqtP4",
   "metadata": {
    "id": "TivgfIJEqtP4",
    "tags": []
   },
   "source": [
    "## Training"
   ]
  },
  {
   "cell_type": "code",
   "execution_count": 12,
   "id": "sreWMA6GNVfV",
   "metadata": {
    "id": "sreWMA6GNVfV"
   },
   "outputs": [],
   "source": [
    "# Load the TensorBoard notebook extension\n",
    "%load_ext tensorboard"
   ]
  },
  {
   "cell_type": "code",
   "execution_count": 13,
   "id": "4fe3e86b-6e08-46cc-a3b2-842d1131e5b3",
   "metadata": {},
   "outputs": [],
   "source": [
    "!rm -r tensorboard\n",
    "#!rm -r model_test"
   ]
  },
  {
   "cell_type": "code",
   "execution_count": 14,
   "id": "YnZUJl-TNEIN",
   "metadata": {
    "id": "YnZUJl-TNEIN"
   },
   "outputs": [
    {
     "data": {
      "text/html": [
       "\n",
       "      <iframe id=\"tensorboard-frame-466a88ee18e59a1e\" width=\"100%\" height=\"800\" frameborder=\"0\">\n",
       "      </iframe>\n",
       "      <script>\n",
       "        (function() {\n",
       "          const frame = document.getElementById(\"tensorboard-frame-466a88ee18e59a1e\");\n",
       "          const url = new URL(\"/\", window.location);\n",
       "          url.port = 6012;\n",
       "          frame.src = url;\n",
       "        })();\n",
       "      </script>\n",
       "  "
      ],
      "text/plain": [
       "<IPython.core.display.HTML object>"
      ]
     },
     "metadata": {},
     "output_type": "display_data"
    }
   ],
   "source": [
    "%tensorboard --logdir tensorboard/log"
   ]
  },
  {
   "cell_type": "code",
   "execution_count": null,
   "id": "56bc8794-d6bf-44cb-8d02-aaab32cb17eb",
   "metadata": {
    "id": "56bc8794-d6bf-44cb-8d02-aaab32cb17eb"
   },
   "outputs": [
    {
     "name": "stdout",
     "output_type": "stream",
     "text": [
      "{'color_labels': {'label_json_file': '_TextRegion_/data/classfile.json'}, 'train_dataset': {'type': 'image_csv', 'csv_filename': '_TextRegion_/data/train.csv', 'base_dir': '_TextRegion_/data', 'repeat_dataset': 4, 'compose': {'transforms': [{'type': 'fixed_size_resize', 'output_size': 1000000.0}]}}, 'val_dataset': {'type': 'image_csv', 'csv_filename': '_TextRegion_/data/val.csv', 'base_dir': '_TextRegion_/data', 'compose': {'transforms': [{'type': 'fixed_size_resize', 'output_size': 1000000.0}]}}, 'model': {'encoder': 'resnet50', 'decoder': {'decoder_channels': [512, 256, 128, 64, 32], 'max_channels': 512}}, 'metrics': [['miou', 'iou'], ['iou', {'type': 'iou', 'average': None}], 'precision'], 'optimizer': {'lr': 0.0001}, 'lr_scheduler': {'type': 'exponential', 'gamma': 0.9995}, 'val_metric': '+miou', 'early_stopping': {'patience': 4}, 'model_out_dir': 'model_test', 'num_epochs': 100, 'evaluate_every_epoch': 5, 'batch_size': 4, 'num_data_workers': 0, 'track_train_metrics': False, 'loggers': [{'type': 'tensorboard', 'log_dir': './tensorboard/log', 'log_every': 5, 'log_images_every': 10}]} color_labels\n",
      "{'label_json_file': '_TextRegion_/data/classfile.json'} label_json_file\n",
      "{'train_dataset': {'type': 'image_csv', 'csv_filename': '_TextRegion_/data/train.csv', 'base_dir': '_TextRegion_/data', 'repeat_dataset': 4, 'compose': {'transforms': [{'type': 'fixed_size_resize', 'output_size': 1000000.0}]}}, 'val_dataset': {'type': 'image_csv', 'csv_filename': '_TextRegion_/data/val.csv', 'base_dir': '_TextRegion_/data', 'compose': {'transforms': [{'type': 'fixed_size_resize', 'output_size': 1000000.0}]}}, 'model': {'encoder': 'resnet50', 'decoder': {'decoder_channels': [512, 256, 128, 64, 32], 'max_channels': 512}}, 'metrics': [['miou', 'iou'], ['iou', {'type': 'iou', 'average': None}], 'precision'], 'optimizer': {'lr': 0.0001}, 'lr_scheduler': {'type': 'exponential', 'gamma': 0.9995}, 'val_metric': '+miou', 'early_stopping': {'patience': 4}, 'model_out_dir': 'model_test', 'num_epochs': 100, 'evaluate_every_epoch': 5, 'batch_size': 4, 'num_data_workers': 0, 'track_train_metrics': False, 'loggers': [{'type': 'tensorboard', 'log_dir': './tensorboard/log', 'log_every': 5, 'log_images_every': 10}]} train_dataset\n",
      "{'val_dataset': {'type': 'image_csv', 'csv_filename': '_TextRegion_/data/val.csv', 'base_dir': '_TextRegion_/data', 'compose': {'transforms': [{'type': 'fixed_size_resize', 'output_size': 1000000.0}]}}, 'model': {'encoder': 'resnet50', 'decoder': {'decoder_channels': [512, 256, 128, 64, 32], 'max_channels': 512}}, 'metrics': [['miou', 'iou'], ['iou', {'type': 'iou', 'average': None}], 'precision'], 'optimizer': {'lr': 0.0001}, 'lr_scheduler': {'type': 'exponential', 'gamma': 0.9995}, 'val_metric': '+miou', 'early_stopping': {'patience': 4}, 'model_out_dir': 'model_test', 'num_epochs': 100, 'evaluate_every_epoch': 5, 'batch_size': 4, 'num_data_workers': 0, 'track_train_metrics': False, 'loggers': [{'type': 'tensorboard', 'log_dir': './tensorboard/log', 'log_every': 5, 'log_images_every': 10}]} model\n",
      "{'csv_filename': '_TextRegion_/data/train.csv', 'base_dir': '_TextRegion_/data', 'repeat_dataset': 4, 'compose': {'transforms': [{'type': 'fixed_size_resize', 'output_size': 1000000.0}]}} csv_filename\n",
      "{'transforms': [{'type': 'fixed_size_resize', 'output_size': 1000000.0}]} transforms\n",
      "{'csv_filename': '_TextRegion_/data/val.csv', 'base_dir': '_TextRegion_/data', 'compose': {'transforms': [{'type': 'fixed_size_resize', 'output_size': 1000000.0}]}} csv_filename\n",
      "{'transforms': [{'type': 'fixed_size_resize', 'output_size': 1000000.0}]} transforms\n",
      "{'encoder': 'resnet50', 'decoder': {'decoder_channels': [512, 256, 128, 64, 32], 'max_channels': 512}} encoder\n",
      "{'decoder': {'decoder_channels': [512, 256, 128, 64, 32], 'max_channels': 512}} decoder\n",
      "{'decoder_channels': [512, 256, 128, 64, 32], 'max_channels': 512} decoder_channels\n"
     ]
    },
    {
     "data": {
      "application/json": {
       "ascii": false,
       "bar_format": null,
       "colour": null,
       "elapsed": 0.006935834884643555,
       "initial": 0,
       "n": 0,
       "ncols": null,
       "nrows": 40,
       "postfix": null,
       "prefix": "epoch 0: loss=???",
       "rate": null,
       "total": 100,
       "unit": "it",
       "unit_divisor": 1000,
       "unit_scale": false
      },
      "application/vnd.jupyter.widget-view+json": {
       "model_id": "9c6189d1b98047caab29077dd1c457c3",
       "version_major": 2,
       "version_minor": 0
      },
      "text/plain": [
       "epoch 0: loss=???:   0%|          | 0/100 [00:00<?, ?it/s]"
      ]
     },
     "metadata": {},
     "output_type": "display_data"
    },
    {
     "data": {
      "application/json": {
       "ascii": false,
       "bar_format": null,
       "colour": null,
       "elapsed": 0.006284475326538086,
       "initial": 0,
       "n": 0,
       "ncols": null,
       "nrows": 40,
       "postfix": null,
       "prefix": "iter=0: loss=???",
       "rate": null,
       "total": null,
       "unit": "it",
       "unit_divisor": 1000,
       "unit_scale": false
      },
      "application/vnd.jupyter.widget-view+json": {
       "model_id": "",
       "version_major": 2,
       "version_minor": 0
      },
      "text/plain": [
       "iter=0: loss=???: 0it [00:00, ?it/s]"
      ]
     },
     "metadata": {},
     "output_type": "display_data"
    },
    {
     "data": {
      "application/json": {
       "ascii": false,
       "bar_format": null,
       "colour": null,
       "elapsed": 0.0071566104888916016,
       "initial": 0,
       "n": 0,
       "ncols": null,
       "nrows": 40,
       "postfix": null,
       "prefix": "iter=774: loss=???",
       "rate": null,
       "total": null,
       "unit": "it",
       "unit_divisor": 1000,
       "unit_scale": false
      },
      "application/vnd.jupyter.widget-view+json": {
       "model_id": "",
       "version_major": 2,
       "version_minor": 0
      },
      "text/plain": [
       "iter=774: loss=???: 0it [00:00, ?it/s]"
      ]
     },
     "metadata": {},
     "output_type": "display_data"
    },
    {
     "data": {
      "application/json": {
       "ascii": false,
       "bar_format": null,
       "colour": null,
       "elapsed": 0.007289409637451172,
       "initial": 0,
       "n": 0,
       "ncols": null,
       "nrows": 40,
       "postfix": null,
       "prefix": "iter=1548: loss=???",
       "rate": null,
       "total": null,
       "unit": "it",
       "unit_divisor": 1000,
       "unit_scale": false
      },
      "application/vnd.jupyter.widget-view+json": {
       "model_id": "",
       "version_major": 2,
       "version_minor": 0
      },
      "text/plain": [
       "iter=1548: loss=???: 0it [00:00, ?it/s]"
      ]
     },
     "metadata": {},
     "output_type": "display_data"
    },
    {
     "data": {
      "application/json": {
       "ascii": false,
       "bar_format": null,
       "colour": null,
       "elapsed": 0.006702423095703125,
       "initial": 0,
       "n": 0,
       "ncols": null,
       "nrows": 40,
       "postfix": null,
       "prefix": "iter=2322: loss=???",
       "rate": null,
       "total": null,
       "unit": "it",
       "unit_divisor": 1000,
       "unit_scale": false
      },
      "application/vnd.jupyter.widget-view+json": {
       "model_id": "",
       "version_major": 2,
       "version_minor": 0
      },
      "text/plain": [
       "iter=2322: loss=???: 0it [00:00, ?it/s]"
      ]
     },
     "metadata": {},
     "output_type": "display_data"
    },
    {
     "data": {
      "application/json": {
       "ascii": false,
       "bar_format": null,
       "colour": null,
       "elapsed": 0.007117509841918945,
       "initial": 0,
       "n": 0,
       "ncols": null,
       "nrows": 40,
       "postfix": null,
       "prefix": "iter=3096: loss=???",
       "rate": null,
       "total": null,
       "unit": "it",
       "unit_divisor": 1000,
       "unit_scale": false
      },
      "application/vnd.jupyter.widget-view+json": {
       "model_id": "",
       "version_major": 2,
       "version_minor": 0
      },
      "text/plain": [
       "iter=3096: loss=???: 0it [00:00, ?it/s]"
      ]
     },
     "metadata": {},
     "output_type": "display_data"
    },
    {
     "data": {
      "application/json": {
       "ascii": false,
       "bar_format": null,
       "colour": null,
       "elapsed": 0.008687973022460938,
       "initial": 0,
       "n": 0,
       "ncols": null,
       "nrows": 40,
       "postfix": null,
       "prefix": "Evaluating",
       "rate": null,
       "total": null,
       "unit": "it",
       "unit_divisor": 1000,
       "unit_scale": false
      },
      "application/vnd.jupyter.widget-view+json": {
       "model_id": "",
       "version_major": 2,
       "version_minor": 0
      },
      "text/plain": [
       "Evaluating: 0it [00:00, ?it/s]"
      ]
     },
     "metadata": {},
     "output_type": "display_data"
    },
    {
     "data": {
      "application/json": {
       "ascii": false,
       "bar_format": null,
       "colour": null,
       "elapsed": 0.010503292083740234,
       "initial": 0,
       "n": 0,
       "ncols": null,
       "nrows": 40,
       "postfix": null,
       "prefix": "iter=3870: loss=???",
       "rate": null,
       "total": null,
       "unit": "it",
       "unit_divisor": 1000,
       "unit_scale": false
      },
      "application/vnd.jupyter.widget-view+json": {
       "model_id": "",
       "version_major": 2,
       "version_minor": 0
      },
      "text/plain": [
       "iter=3870: loss=???: 0it [00:00, ?it/s]"
      ]
     },
     "metadata": {},
     "output_type": "display_data"
    },
    {
     "data": {
      "application/json": {
       "ascii": false,
       "bar_format": null,
       "colour": null,
       "elapsed": 0.007061481475830078,
       "initial": 0,
       "n": 0,
       "ncols": null,
       "nrows": 40,
       "postfix": null,
       "prefix": "iter=4644: loss=???",
       "rate": null,
       "total": null,
       "unit": "it",
       "unit_divisor": 1000,
       "unit_scale": false
      },
      "application/vnd.jupyter.widget-view+json": {
       "model_id": "",
       "version_major": 2,
       "version_minor": 0
      },
      "text/plain": [
       "iter=4644: loss=???: 0it [00:00, ?it/s]"
      ]
     },
     "metadata": {},
     "output_type": "display_data"
    },
    {
     "data": {
      "application/json": {
       "ascii": false,
       "bar_format": null,
       "colour": null,
       "elapsed": 0.006777763366699219,
       "initial": 0,
       "n": 0,
       "ncols": null,
       "nrows": 40,
       "postfix": null,
       "prefix": "iter=5418: loss=???",
       "rate": null,
       "total": null,
       "unit": "it",
       "unit_divisor": 1000,
       "unit_scale": false
      },
      "application/vnd.jupyter.widget-view+json": {
       "model_id": "",
       "version_major": 2,
       "version_minor": 0
      },
      "text/plain": [
       "iter=5418: loss=???: 0it [00:00, ?it/s]"
      ]
     },
     "metadata": {},
     "output_type": "display_data"
    },
    {
     "data": {
      "application/json": {
       "ascii": false,
       "bar_format": null,
       "colour": null,
       "elapsed": 0.0066165924072265625,
       "initial": 0,
       "n": 0,
       "ncols": null,
       "nrows": 40,
       "postfix": null,
       "prefix": "iter=6192: loss=???",
       "rate": null,
       "total": null,
       "unit": "it",
       "unit_divisor": 1000,
       "unit_scale": false
      },
      "application/vnd.jupyter.widget-view+json": {
       "model_id": "",
       "version_major": 2,
       "version_minor": 0
      },
      "text/plain": [
       "iter=6192: loss=???: 0it [00:00, ?it/s]"
      ]
     },
     "metadata": {},
     "output_type": "display_data"
    },
    {
     "data": {
      "application/json": {
       "ascii": false,
       "bar_format": null,
       "colour": null,
       "elapsed": 0.007010698318481445,
       "initial": 0,
       "n": 0,
       "ncols": null,
       "nrows": 40,
       "postfix": null,
       "prefix": "iter=6966: loss=???",
       "rate": null,
       "total": null,
       "unit": "it",
       "unit_divisor": 1000,
       "unit_scale": false
      },
      "application/vnd.jupyter.widget-view+json": {
       "model_id": "",
       "version_major": 2,
       "version_minor": 0
      },
      "text/plain": [
       "iter=6966: loss=???: 0it [00:00, ?it/s]"
      ]
     },
     "metadata": {},
     "output_type": "display_data"
    },
    {
     "data": {
      "application/json": {
       "ascii": false,
       "bar_format": null,
       "colour": null,
       "elapsed": 0.008277177810668945,
       "initial": 0,
       "n": 0,
       "ncols": null,
       "nrows": 40,
       "postfix": null,
       "prefix": "Evaluating",
       "rate": null,
       "total": null,
       "unit": "it",
       "unit_divisor": 1000,
       "unit_scale": false
      },
      "application/vnd.jupyter.widget-view+json": {
       "model_id": "",
       "version_major": 2,
       "version_minor": 0
      },
      "text/plain": [
       "Evaluating: 0it [00:00, ?it/s]"
      ]
     },
     "metadata": {},
     "output_type": "display_data"
    },
    {
     "data": {
      "application/json": {
       "ascii": false,
       "bar_format": null,
       "colour": null,
       "elapsed": 0.011673927307128906,
       "initial": 0,
       "n": 0,
       "ncols": null,
       "nrows": 40,
       "postfix": null,
       "prefix": "iter=7740: loss=???",
       "rate": null,
       "total": null,
       "unit": "it",
       "unit_divisor": 1000,
       "unit_scale": false
      },
      "application/vnd.jupyter.widget-view+json": {
       "model_id": "",
       "version_major": 2,
       "version_minor": 0
      },
      "text/plain": [
       "iter=7740: loss=???: 0it [00:00, ?it/s]"
      ]
     },
     "metadata": {},
     "output_type": "display_data"
    },
    {
     "data": {
      "application/json": {
       "ascii": false,
       "bar_format": null,
       "colour": null,
       "elapsed": 0.0074465274810791016,
       "initial": 0,
       "n": 0,
       "ncols": null,
       "nrows": 40,
       "postfix": null,
       "prefix": "iter=8514: loss=???",
       "rate": null,
       "total": null,
       "unit": "it",
       "unit_divisor": 1000,
       "unit_scale": false
      },
      "application/vnd.jupyter.widget-view+json": {
       "model_id": "",
       "version_major": 2,
       "version_minor": 0
      },
      "text/plain": [
       "iter=8514: loss=???: 0it [00:00, ?it/s]"
      ]
     },
     "metadata": {},
     "output_type": "display_data"
    },
    {
     "data": {
      "application/json": {
       "ascii": false,
       "bar_format": null,
       "colour": null,
       "elapsed": 0.006982564926147461,
       "initial": 0,
       "n": 0,
       "ncols": null,
       "nrows": 40,
       "postfix": null,
       "prefix": "iter=9288: loss=???",
       "rate": null,
       "total": null,
       "unit": "it",
       "unit_divisor": 1000,
       "unit_scale": false
      },
      "application/vnd.jupyter.widget-view+json": {
       "model_id": "",
       "version_major": 2,
       "version_minor": 0
      },
      "text/plain": [
       "iter=9288: loss=???: 0it [00:00, ?it/s]"
      ]
     },
     "metadata": {},
     "output_type": "display_data"
    },
    {
     "data": {
      "application/json": {
       "ascii": false,
       "bar_format": null,
       "colour": null,
       "elapsed": 0.008336305618286133,
       "initial": 0,
       "n": 0,
       "ncols": null,
       "nrows": 40,
       "postfix": null,
       "prefix": "iter=10062: loss=???",
       "rate": null,
       "total": null,
       "unit": "it",
       "unit_divisor": 1000,
       "unit_scale": false
      },
      "application/vnd.jupyter.widget-view+json": {
       "model_id": "761b897f11484e4981478d26a1b86485",
       "version_major": 2,
       "version_minor": 0
      },
      "text/plain": [
       "iter=10062: loss=???: 0it [00:00, ?it/s]"
      ]
     },
     "metadata": {},
     "output_type": "display_data"
    }
   ],
   "source": [
    "## Train\n",
    "\n",
    "trainer = Trainer.from_params(params)\n",
    "trainer.train()"
   ]
  },
  {
   "cell_type": "code",
   "execution_count": null,
   "id": "a3e7feb9-9765-495d-b915-fc499810158a",
   "metadata": {},
   "outputs": [],
   "source": [
    "with open(\"notification.txt\", \"w\") as f:\n",
    "    f.write(\"entraînement fini\")"
   ]
  },
  {
   "cell_type": "markdown",
   "id": "RUCwgLHeqwqg",
   "metadata": {
    "id": "RUCwgLHeqwqg"
   },
   "source": [
    "## Inference parameters"
   ]
  },
  {
   "cell_type": "code",
   "execution_count": null,
   "id": "HY_ll5MHPuPo",
   "metadata": {
    "id": "HY_ll5MHPuPo"
   },
   "outputs": [],
   "source": [
    "## Inference params\n",
    "\n",
    "dataset_params = {\n",
    "    \"type\": \"folder\",\n",
    "    \"folder\": os.path.join(data_path, 'images'),\n",
    "    \"pre_processing\": {\"transforms\": []}\n",
    "}\n",
    "\n",
    "model_params = {\n",
    "    \"model\": {\n",
    "            \"encoder\": \"resnet50\",\n",
    "            \"decoder\": {\"decoder_channels\": [512, 256, 128, 64, 32], \"max_channels\": 512}\n",
    "        },\n",
    "        \"num_classes\": 2,\n",
    "        \"model_state_dict\": sorted(glob.glob(os.path.join('model_test', 'best_model_checkpoint_miou=*.pth')))[-1],\n",
    "        \"device\": \"cuda:0\"\n",
    "}\n",
    "\n",
    "process_params = Params({\n",
    "    'data': dataset_params,\n",
    "    'model': model_params,\n",
    "    'batch_size': 1,\n",
    "    'num_workers': 0,\n",
    "    'add_path': True\n",
    "})"
   ]
  },
  {
   "cell_type": "markdown",
   "id": "VVv4jhtuFt86",
   "metadata": {
    "id": "VVv4jhtuFt86"
   },
   "source": [
    "## Inference"
   ]
  },
  {
   "cell_type": "code",
   "execution_count": null,
   "id": "LvcmkUsfYvb2",
   "metadata": {
    "id": "LvcmkUsfYvb2"
   },
   "outputs": [],
   "source": [
    "output_dir = \"predictions\"\n",
    "os.makedirs(output_dir, exist_ok=True)\n",
    "\n",
    "predict_annots = PredictProcess.from_params(process_params)\n",
    "predict_annots.process_to_probas_files(output_dir)"
   ]
  },
  {
   "cell_type": "markdown",
   "id": "jxXcaBgLFzsW",
   "metadata": {
    "id": "jxXcaBgLFzsW"
   },
   "source": [
    "## Visualise the results"
   ]
  },
  {
   "cell_type": "code",
   "execution_count": null,
   "id": "QRcBI7vOlVuX",
   "metadata": {
    "id": "QRcBI7vOlVuX"
   },
   "outputs": [],
   "source": [
    "results = [np.load(path) for path in sorted(glob.glob(os.path.join(output_dir, '*.npy')))]\n",
    "images = [cv2.cvtColor(cv2.imread(path), cv2.COLOR_BGR2RGB) for path in sorted(glob.glob(os.path.join(data_path, 'images', '*.*')))]"
   ]
  },
  {
   "cell_type": "markdown",
   "id": "6aa2a505-a935-4c34-9a65-2bd1afdef1f9",
   "metadata": {},
   "source": [
    "### Comparaison between the original image and the probability map"
   ]
  },
  {
   "cell_type": "code",
   "execution_count": null,
   "id": "1-pQp3hWZa-J",
   "metadata": {
    "id": "1-pQp3hWZa-J"
   },
   "outputs": [],
   "source": [
    "image_nb = 0\n",
    "\n",
    "Image.fromarray(images[image_nb])"
   ]
  },
  {
   "cell_type": "code",
   "execution_count": null,
   "id": "Xy8TdzsEZe8N",
   "metadata": {
    "id": "Xy8TdzsEZe8N"
   },
   "outputs": [],
   "source": [
    "class_nb = 1\n",
    "\n",
    "Image.fromarray((np.around(results[image_nb][class_nb]*255)).astype('uint8'))"
   ]
  },
  {
   "cell_type": "markdown",
   "id": "3465929d-464c-4be5-a9c4-c1155bb988e4",
   "metadata": {},
   "source": [
    "### Focus on the best predictions"
   ]
  },
  {
   "cell_type": "code",
   "execution_count": null,
   "id": "BY4i_8nLZg2_",
   "metadata": {
    "id": "BY4i_8nLZg2_"
   },
   "outputs": [],
   "source": [
    "colors = [0, 255]\n",
    "\n",
    "image = np.argmax(results[image_nb], axis=0).astype('uint8')\n",
    "canvas = np.zeros((image.shape[0], image.shape[1], 3)).astype('uint8')\n",
    "for i, color in enumerate(colors):\n",
    "    canvas[image == i] = color\n",
    "Image.fromarray(canvas)"
   ]
  },
  {
   "cell_type": "code",
   "execution_count": null,
   "id": "Stf1jtgoZkEg",
   "metadata": {
    "id": "Stf1jtgoZkEg"
   },
   "outputs": [],
   "source": [
    "Image.fromarray(canvas//2 + images[image_nb]//2)"
   ]
  },
  {
   "cell_type": "markdown",
   "id": "cca596b1-b7d9-4e83-81e2-bf7e41e8e342",
   "metadata": {},
   "source": [
    "### Bounding box"
   ]
  },
  {
   "cell_type": "code",
   "execution_count": null,
   "id": "e564dca1-27db-4d99-b637-590e00c312ff",
   "metadata": {
    "id": "-fggaDjKZnN9"
   },
   "outputs": [],
   "source": [
    "mask = (image == class_nb).astype('uint8')*255\n",
    "x, y, w, h = cv2.boundingRect(mask)"
   ]
  },
  {
   "cell_type": "markdown",
   "id": "94069386-9723-45bd-9b9d-5ed7786bff15",
   "metadata": {},
   "source": [
    "#### Predictions"
   ]
  },
  {
   "cell_type": "code",
   "execution_count": null,
   "id": "9ded21ce-4908-4313-9b4d-0e0ee589f383",
   "metadata": {
    "id": "-fggaDjKZnN9"
   },
   "outputs": [],
   "source": [
    "cut = cv2.merge((images[image_nb], mask))[y:y+h, x:x+w]\n",
    "Image.fromarray(cut)"
   ]
  },
  {
   "cell_type": "markdown",
   "id": "6e08fa2d-bb15-4669-af5e-b69b8e4d0c80",
   "metadata": {},
   "source": [
    "#### Image"
   ]
  },
  {
   "cell_type": "code",
   "execution_count": null,
   "id": "9A6gPK2eiLAC",
   "metadata": {
    "id": "9A6gPK2eiLAC"
   },
   "outputs": [],
   "source": [
    "cut = images[image_nb][y:y+h, x:x+w]\n",
    "Image.fromarray(cut)"
   ]
  },
  {
   "cell_type": "code",
   "execution_count": null,
   "id": "f8f8995f-f99a-47e7-bc7f-9697c0e105ae",
   "metadata": {},
   "outputs": [],
   "source": []
  }
 ],
 "metadata": {
  "accelerator": "GPU",
  "colab": {
   "provenance": []
  },
  "gpuClass": "standard",
  "kernelspec": {
   "display_name": "Python 3 (ipykernel)",
   "language": "python",
   "name": "python3"
  },
  "language_info": {
   "codemirror_mode": {
    "name": "ipython",
    "version": 3
   },
   "file_extension": ".py",
   "mimetype": "text/x-python",
   "name": "python",
   "nbconvert_exporter": "python",
   "pygments_lexer": "ipython3",
   "version": "3.7.16"
  }
 },
 "nbformat": 4,
 "nbformat_minor": 5
}
