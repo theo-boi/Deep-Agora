{
  "cells": [
    {
      "cell_type": "code",
      "source": [
        "from google.colab import drive\n",
        "\n",
        "project_directory = '5A/PRD/workspace'\n",
        "\n",
        "drive.mount('/content/drive')\n",
        "%cd drive/My Drive/$project_directory\n",
        "%ls"
      ],
      "metadata": {
        "id": "evABRjGZfQfA",
        "colab": {
          "base_uri": "https://localhost:8080/"
        },
        "outputId": "4a234f97-3cfa-460e-983b-5e15db3b52f4"
      },
      "execution_count": 1,
      "outputs": [
        {
          "output_type": "stream",
          "name": "stdout",
          "text": [
            "Drive already mounted at /content/drive; to attempt to forcibly remount, call drive.mount(\"/content/drive\", force_remount=True).\n",
            "/content/drive/My Drive/5A/PRD/workspace\n",
            "\u001b[0m\u001b[01;34mdata\u001b[0m/             EnvironmentSetup.ipynb  pages.zip            \u001b[01;34m__pycache__\u001b[0m/\n",
            "\u001b[01;34mdhSegment-torch\u001b[0m/  \u001b[01;34mFCR\u001b[0m/                    PatchDatasets.ipynb  \u001b[01;34mtraining_data\u001b[0m/\n"
          ]
        }
      ]
    },
    {
      "cell_type": "code",
      "execution_count": 2,
      "metadata": {
        "colab": {
          "base_uri": "https://localhost:8080/"
        },
        "id": "XiLXGY0Sm1RK",
        "outputId": "4943bca8-980d-4946-a06b-b5fa3dcbdc25"
      },
      "outputs": [
        {
          "output_type": "stream",
          "name": "stdout",
          "text": [
            "Looking in indexes: https://pypi.org/simple, https://us-python.pkg.dev/colab-wheels/public/simple/\n",
            "Collecting git+https://github.com/dhlab-epfl/dhSegment-torch.git@master\n",
            "  Cloning https://github.com/dhlab-epfl/dhSegment-torch.git (to revision master) to /tmp/pip-req-build-_4ptudx2\n",
            "  Running command git clone --filter=blob:none --quiet https://github.com/dhlab-epfl/dhSegment-torch.git /tmp/pip-req-build-_4ptudx2\n",
            "  Resolved https://github.com/dhlab-epfl/dhSegment-torch.git to commit 16bbaf2faee7963e82083896c04c198270ef76d2\n",
            "  Preparing metadata (setup.py) ... \u001b[?25l\u001b[?25hdone\n",
            "Requirement already satisfied: sacred==0.8 in /usr/local/lib/python3.8/dist-packages (from dh-segment-torch==0.1.0) (0.8.0)\n",
            "Requirement already satisfied: torch==1.6.0 in /usr/local/lib/python3.8/dist-packages (from dh-segment-torch==0.1.0) (1.6.0)\n",
            "Requirement already satisfied: torchvision==0.7.0 in /usr/local/lib/python3.8/dist-packages (from dh-segment-torch==0.1.0) (0.7.0)\n",
            "Requirement already satisfied: tensorboard==2.0.0 in /usr/local/lib/python3.8/dist-packages (from dh-segment-torch==0.1.0) (2.0.0)\n",
            "Requirement already satisfied: scikit-image==0.17.2 in /usr/local/lib/python3.8/dist-packages (from dh-segment-torch==0.1.0) (0.17.2)\n",
            "Requirement already satisfied: scikit-learn==0.22.2.post1 in /usr/local/lib/python3.8/dist-packages (from dh-segment-torch==0.1.0) (0.22.2.post1)\n",
            "Requirement already satisfied: pandas==1.2.4 in /usr/local/lib/python3.8/dist-packages (from dh-segment-torch==0.1.0) (1.2.4)\n",
            "Requirement already satisfied: numpy==1.18.1 in /usr/local/lib/python3.8/dist-packages (from dh-segment-torch==0.1.0) (1.18.1)\n",
            "Requirement already satisfied: scipy==1.3.2 in /usr/local/lib/python3.8/dist-packages (from dh-segment-torch==0.1.0) (1.3.2)\n",
            "Requirement already satisfied: networkx==2.4 in /usr/local/lib/python3.8/dist-packages (from dh-segment-torch==0.1.0) (2.4)\n",
            "Requirement already satisfied: lxml==4.6.3 in /usr/local/lib/python3.8/dist-packages (from dh-segment-torch==0.1.0) (4.6.3)\n",
            "Requirement already satisfied: pretrainedmodels==0.7.4 in /usr/local/lib/python3.8/dist-packages (from dh-segment-torch==0.1.0) (0.7.4)\n",
            "Requirement already satisfied: opencv-python-headless==4.5.2.52 in /usr/local/lib/python3.8/dist-packages (from dh-segment-torch==0.1.0) (4.5.2.52)\n",
            "Requirement already satisfied: PyYaml==5.4.1 in /usr/local/lib/python3.8/dist-packages (from dh-segment-torch==0.1.0) (5.4.1)\n",
            "Requirement already satisfied: frozendict==2.0.2 in /usr/local/lib/python3.8/dist-packages (from dh-segment-torch==0.1.0) (2.0.2)\n",
            "Requirement already satisfied: albumentations==0.5.2 in /usr/local/lib/python3.8/dist-packages (from dh-segment-torch==0.1.0) (0.5.2)\n",
            "Requirement already satisfied: shapely==1.7.1 in /usr/local/lib/python3.8/dist-packages (from dh-segment-torch==0.1.0) (1.7.1)\n",
            "Requirement already satisfied: tqdm==4.60.0 in /usr/local/lib/python3.8/dist-packages (from dh-segment-torch==0.1.0) (4.60.0)\n",
            "Requirement already satisfied: requests==2.25.1 in /usr/local/lib/python3.8/dist-packages (from dh-segment-torch==0.1.0) (2.25.1)\n",
            "Requirement already satisfied: jsonnet>=0.16.0 in /usr/local/lib/python3.8/dist-packages (from dh-segment-torch==0.1.0) (0.19.1)\n",
            "Requirement already satisfied: imgaug>=0.4.0 in /usr/local/lib/python3.8/dist-packages (from albumentations==0.5.2->dh-segment-torch==0.1.0) (0.4.0)\n",
            "Requirement already satisfied: decorator>=4.3.0 in /usr/local/lib/python3.8/dist-packages (from networkx==2.4->dh-segment-torch==0.1.0) (4.4.2)\n",
            "Requirement already satisfied: python-dateutil>=2.7.3 in /usr/local/lib/python3.8/dist-packages (from pandas==1.2.4->dh-segment-torch==0.1.0) (2.8.2)\n",
            "Requirement already satisfied: pytz>=2017.3 in /usr/local/lib/python3.8/dist-packages (from pandas==1.2.4->dh-segment-torch==0.1.0) (2022.7)\n",
            "Requirement already satisfied: munch in /usr/local/lib/python3.8/dist-packages (from pretrainedmodels==0.7.4->dh-segment-torch==0.1.0) (2.5.0)\n",
            "Requirement already satisfied: urllib3<1.27,>=1.21.1 in /usr/local/lib/python3.8/dist-packages (from requests==2.25.1->dh-segment-torch==0.1.0) (1.24.3)\n",
            "Requirement already satisfied: chardet<5,>=3.0.2 in /usr/local/lib/python3.8/dist-packages (from requests==2.25.1->dh-segment-torch==0.1.0) (4.0.0)\n",
            "Requirement already satisfied: idna<3,>=2.5 in /usr/local/lib/python3.8/dist-packages (from requests==2.25.1->dh-segment-torch==0.1.0) (2.10)\n",
            "Requirement already satisfied: certifi>=2017.4.17 in /usr/local/lib/python3.8/dist-packages (from requests==2.25.1->dh-segment-torch==0.1.0) (2022.12.7)\n",
            "Requirement already satisfied: docopt<1.0,>=0.3 in /usr/local/lib/python3.8/dist-packages (from sacred==0.8->dh-segment-torch==0.1.0) (0.6.2)\n",
            "Requirement already satisfied: packaging>=18.0 in /usr/local/lib/python3.8/dist-packages (from sacred==0.8->dh-segment-torch==0.1.0) (21.3)\n",
            "Requirement already satisfied: GitPython in /usr/local/lib/python3.8/dist-packages (from sacred==0.8->dh-segment-torch==0.1.0) (3.1.30)\n",
            "Requirement already satisfied: py-cpuinfo>=4.0 in /usr/local/lib/python3.8/dist-packages (from sacred==0.8->dh-segment-torch==0.1.0) (9.0.0)\n",
            "Requirement already satisfied: wrapt<2.0,>=1.0 in /usr/local/lib/python3.8/dist-packages (from sacred==0.8->dh-segment-torch==0.1.0) (1.14.1)\n",
            "Requirement already satisfied: colorama>=0.4 in /usr/local/lib/python3.8/dist-packages (from sacred==0.8->dh-segment-torch==0.1.0) (0.4.6)\n",
            "Requirement already satisfied: jsonpickle<1.0,>=0.7.2 in /usr/local/lib/python3.8/dist-packages (from sacred==0.8->dh-segment-torch==0.1.0) (0.9.6)\n",
            "Requirement already satisfied: imageio>=2.3.0 in /usr/local/lib/python3.8/dist-packages (from scikit-image==0.17.2->dh-segment-torch==0.1.0) (2.9.0)\n",
            "Requirement already satisfied: matplotlib!=3.0.0,>=2.0.0 in /usr/local/lib/python3.8/dist-packages (from scikit-image==0.17.2->dh-segment-torch==0.1.0) (3.2.2)\n",
            "Requirement already satisfied: tifffile>=2019.7.26 in /usr/local/lib/python3.8/dist-packages (from scikit-image==0.17.2->dh-segment-torch==0.1.0) (2023.1.23.1)\n",
            "Requirement already satisfied: PyWavelets>=1.1.1 in /usr/local/lib/python3.8/dist-packages (from scikit-image==0.17.2->dh-segment-torch==0.1.0) (1.4.1)\n",
            "Requirement already satisfied: pillow!=7.1.0,!=7.1.1,>=4.3.0 in /usr/local/lib/python3.8/dist-packages (from scikit-image==0.17.2->dh-segment-torch==0.1.0) (7.1.2)\n",
            "Requirement already satisfied: joblib>=0.11 in /usr/local/lib/python3.8/dist-packages (from scikit-learn==0.22.2.post1->dh-segment-torch==0.1.0) (1.2.0)\n",
            "Requirement already satisfied: markdown>=2.6.8 in /usr/local/lib/python3.8/dist-packages (from tensorboard==2.0.0->dh-segment-torch==0.1.0) (3.4.1)\n",
            "Requirement already satisfied: setuptools>=41.0.0 in /usr/local/lib/python3.8/dist-packages (from tensorboard==2.0.0->dh-segment-torch==0.1.0) (57.4.0)\n",
            "Requirement already satisfied: six>=1.10.0 in /usr/local/lib/python3.8/dist-packages (from tensorboard==2.0.0->dh-segment-torch==0.1.0) (1.15.0)\n",
            "Requirement already satisfied: protobuf>=3.6.0 in /usr/local/lib/python3.8/dist-packages (from tensorboard==2.0.0->dh-segment-torch==0.1.0) (3.19.6)\n",
            "Requirement already satisfied: grpcio>=1.6.3 in /usr/local/lib/python3.8/dist-packages (from tensorboard==2.0.0->dh-segment-torch==0.1.0) (1.51.1)\n",
            "Requirement already satisfied: wheel>=0.26 in /usr/local/lib/python3.8/dist-packages (from tensorboard==2.0.0->dh-segment-torch==0.1.0) (0.38.4)\n",
            "Requirement already satisfied: werkzeug>=0.11.15 in /usr/local/lib/python3.8/dist-packages (from tensorboard==2.0.0->dh-segment-torch==0.1.0) (1.0.1)\n",
            "Requirement already satisfied: absl-py>=0.4 in /usr/local/lib/python3.8/dist-packages (from tensorboard==2.0.0->dh-segment-torch==0.1.0) (1.3.0)\n",
            "Requirement already satisfied: future in /usr/local/lib/python3.8/dist-packages (from torch==1.6.0->dh-segment-torch==0.1.0) (0.16.0)\n",
            "Requirement already satisfied: opencv-python in /usr/local/lib/python3.8/dist-packages (from imgaug>=0.4.0->albumentations==0.5.2->dh-segment-torch==0.1.0) (4.6.0.66)\n",
            "Requirement already satisfied: importlib-metadata>=4.4 in /usr/local/lib/python3.8/dist-packages (from markdown>=2.6.8->tensorboard==2.0.0->dh-segment-torch==0.1.0) (6.0.0)\n",
            "Requirement already satisfied: pyparsing!=2.0.4,!=2.1.2,!=2.1.6,>=2.0.1 in /usr/local/lib/python3.8/dist-packages (from matplotlib!=3.0.0,>=2.0.0->scikit-image==0.17.2->dh-segment-torch==0.1.0) (3.0.9)\n",
            "Requirement already satisfied: cycler>=0.10 in /usr/local/lib/python3.8/dist-packages (from matplotlib!=3.0.0,>=2.0.0->scikit-image==0.17.2->dh-segment-torch==0.1.0) (0.11.0)\n",
            "Requirement already satisfied: kiwisolver>=1.0.1 in /usr/local/lib/python3.8/dist-packages (from matplotlib!=3.0.0,>=2.0.0->scikit-image==0.17.2->dh-segment-torch==0.1.0) (1.4.4)\n",
            "Requirement already satisfied: gitdb<5,>=4.0.1 in /usr/local/lib/python3.8/dist-packages (from GitPython->sacred==0.8->dh-segment-torch==0.1.0) (4.0.10)\n",
            "Requirement already satisfied: smmap<6,>=3.0.1 in /usr/local/lib/python3.8/dist-packages (from gitdb<5,>=4.0.1->GitPython->sacred==0.8->dh-segment-torch==0.1.0) (5.0.0)\n",
            "Requirement already satisfied: zipp>=0.5 in /usr/local/lib/python3.8/dist-packages (from importlib-metadata>=4.4->markdown>=2.6.8->tensorboard==2.0.0->dh-segment-torch==0.1.0) (3.11.0)\n"
          ]
        }
      ],
      "source": [
        "!pip install git+https://github.com/dhlab-epfl/dhSegment-torch.git@master"
      ]
    },
    {
      "cell_type": "code",
      "source": [
        "import training_data.pipelines as pipe"
      ],
      "metadata": {
        "id": "5u8e3iyMxoF4"
      },
      "execution_count": 3,
      "outputs": []
    },
    {
      "cell_type": "code",
      "source": [
        "pipe.annotationsToMasks('FCR', interactive= True)"
      ],
      "metadata": {
        "id": "a7akymcHmsEY",
        "colab": {
          "base_uri": "https://localhost:8080/"
        },
        "outputId": "0cda3b4a-8609-405b-ebd0-3d3f3ff16469"
      },
      "execution_count": 4,
      "outputs": [
        {
          "output_type": "stream",
          "name": "stdout",
          "text": [
            "Enter your labels separated by a space ' ':\n",
            "PcGts\n",
            "Metadata\n",
            "Creator\n",
            "Created\n",
            "LastChange\n",
            "TranskribusMetadata\n",
            "Page\n",
            "ReadingOrder\n",
            "OrderedGroup\n",
            "RegionRefIndexed\n",
            "TextRegion\n",
            "Coords\n",
            "TextLine\n",
            "Baseline\n",
            "TextEquiv\n",
            "Unicode\n",
            "\n",
            "> TextRegionTextLine\n",
            "Parsing did not work. Please just copy-paste from the list above.\n",
            "> TextRegion TextLine\n",
            "\n",
            "Encoding of labels:\n",
            "Background\n",
            "\t Color: (0, 0, 0)\n",
            "\t One-hot encoding: [0, 0, 0]\n",
            "TextRegion\n",
            "\t Color: (131, 190, 20)\n",
            "\t One-hot encoding: [1, 0, 0]\n",
            "TextLine\n",
            "\t Color: (216, 19, 105)\n",
            "\t One-hot encoding: [0, 1, 0]\n",
            "\n",
            "Found coordinates for:\n",
            "Ahvenanmaan_1869-1870_10\n",
            "(2644x4320)\n",
            "\t TextRegion ['630,2766 555,2758 553,40 2563,42 2563,4230 638,4232', '33,2778 641,2778 641,4102 33,4102']\n",
            "\t (2 objects)\n",
            "\t TextLine ['623,163 853,163 1137,160 1426,157 1889,155 2120,164 2256,161 2456,161 2456,211 2256,211 2120,214 1888,205 1426,207 1137,210 853,213 623,213', '626,279 905,278 1328,275 1978,285 2418,285 2418,335 1978,335 1328,325 905,328 626,329', '614,415 1749,405 2089,413 2483,421 2482,471 2088,463 1749,455 614,465', '618,533 1836,539 2192,541 2419,545 2502,564 2491,613 2413,595 2191,591 1836,589 618,583', '621,684 648,649 1239,651 1860,663 2459,667 2459,717 1859,713 1238,701 648,699', '621,800 645,760 1240,772 1778,772 2104,778 2419,782 2418,832 2103,828 1778,822 1240,822 644,810', '622,935 647,894 1085,900 1190,898 1777,914 2465,912 2465,962 1776,964 1190,948 1085,950 646,944', '622,1069 647,1033 1149,1039 1258,1039 1784,1049 2279,1037 2473,1045 2471,1095 2279,1087 1784,1099 1258,1089 1149,1089 646,1083', '614,1186 639,1154 989,1162 1211,1168 1695,1166 2109,1174 2446,1166 2447,1216 2109,1224 1695,1216 1210,1218 988,1212 638,1204', '612,1322 636,1285 1002,1281 1573,1286 2050,1298 2434,1302 2434,1352 2049,1348 1572,1336 1002,1331 636,1335', '624,1445 653,1411 1117,1417 1629,1407 1947,1427 2450,1435 2449,1485 1945,1477 1628,1457 1117,1467 652,1461', '620,1549 643,1517 1159,1521 1654,1543 2152,1543 2278,1557 2458,1539 2462,1589 2278,1607 2150,1593 1653,1593 1158,1571 643,1567', '626,1674 647,1630 818,1644 930,1642 1265,1654 1660,1668 1790,1658 2304,1676 2419,1664 2454,1664 2454,1714 2421,1714 2306,1726 1791,1708 1661,1718 1263,1704 930,1692 817,1694 643,1680', '616,1814 636,1767 896,1783 1438,1791 1701,1799 2292,1810 2497,1806 2498,1856 2292,1860 1700,1849 1437,1841 894,1833 633,1817', '626,1903 802,1892 1273,1901 1921,1923 2484,1927 2484,1977 1920,1973 1272,1951 803,1942 629,1953', '620,2044 651,2006 1026,2022 1093,2010 1757,2032 2487,2054 2486,2104 1756,2082 1096,2060 1029,2072 649,2056', '605,2165 636,2131 1001,2137 1171,2135 1465,2155 1527,2151 1795,2155 1869,2153 2486,2185 2484,2235 1868,2203 1795,2205 1528,2201 1465,2205 1170,2185 1001,2187 635,2181', '610,2295 640,2252 885,2268 978,2268 1070,2270 1531,2280 2022,2295 2481,2307 2480,2357 2021,2345 1530,2330 1069,2320 978,2318 884,2318 637,2302', '625,2420 650,2383 895,2387 1398,2400 1802,2402 2490,2438 2488,2488 1801,2452 1397,2450 894,2437 649,2433', '613,2543 637,2505 889,2505 1424,2521 1423,2571 888,2555 637,2555', '1101,2674 1165,2636 1900,2654 1899,2704 1164,2686', '1420,2797 1467,2769 1641,2783 1637,2833 1463,2819', '652,2932 646,2907 701,2876 1236,2896 1839,2905 2489,2907 2489,2957 1839,2955 1235,2946 699,2926', '659,2985 820,2993 1367,3004 1910,3012 2452,3020 2451,3070 1909,3062 1366,3054 818,3043 657,3035', '634,3153 672,3117 919,3113 1400,3121 1526,3121 2024,3127 2394,3131 2394,3181 2023,3177 1526,3171 1400,3171 919,3163 673,3167', '630,3276 630,3237 716,3224 797,3234 1279,3232 1953,3234 2496,3250 2495,3300 1952,3284 1279,3282 794,3284 710,3274', '623,3385 655,3347 1253,3347 1253,3397 655,3397', '734,3499 734,3465 835,3456 1255,3460 2034,3460 2474,3470 2473,3520 2033,3510 1255,3510 835,3506', '639,3645 665,3603 1099,3607 1504,3601 2075,3621 2158,3611 2485,3615 2484,3665 2160,3661 2077,3671 1504,3651 1099,3657 665,3653', '643,3786 642,3759 695,3747 1089,3747 1550,3743 1861,3739 2227,3741 2302,3733 2532,3755 2528,3805 2302,3783 2229,3791 1861,3789 1550,3793 1089,3797 695,3797', '654,3852 845,3858 1102,3852 1311,3844 1578,3838 2075,3856 2275,3852 2443,3852 2443,3902 2275,3902 2075,3906 1578,3888 1312,3894 1103,3902 845,3908 653,3902', '632,4011 657,3977 868,3976 935,3955 1303,3979 1624,3961 2092,3963 2487,3953 2488,4003 2092,4013 1625,4011 1303,4029 941,4005 876,4025 657,4027', '633,4133 667,4092 897,4092 1365,4088 1749,4076 1911,4072 2488,4072 2488,4122 1912,4122 1750,4126 1366,4138 897,4142 667,4142', '59,2926 88,2885 294,2884 598,2880 599,2930 294,2934 88,2935', '41,3046 67,3000 227,2998 581,3000 581,3050 227,3048 68,3050', '43,3155 87,3108 615,3115 614,3165 86,3158', '66,3266 97,3226 287,3229 605,3224 606,3274 287,3279 96,3276', '71,3393 97,3352 620,3344 621,3394 98,3402', '55,3511 76,3469 399,3469 628,3462 629,3512 400,3519 76,3519', '91,3610 617,3607 617,3657 91,3660', '51,3788 85,3744 633,3738 633,3788 85,3794', '42,3888 87,3863 618,3855 619,3905 88,3913', '63,4025 63,4003 61,3987 108,3973 418,3978 417,4028 107,4023']\n",
            "\t (43 objects)\n",
            "Ahvenanmaan_1869-1870_11\n",
            "(2636x4310)\n",
            "\t TextRegion ['2365,106 2563,106 2563,235 2365,235', '43,72 2160,72 2160,4211 43,4211']\n",
            "\t (2 objects)\n",
            "\t TextLine ['2391,145 2522,149 2521,199 2390,195', '127,211 121,164 188,168 717,165 803,161 1379,152 2003,161 2002,211 1379,202 804,211 718,215 188,218', '155,322 199,283 492,281 1212,278 2009,276 2009,326 1212,328 492,331 300,322 199,333', '152,437 188,393 582,389 1278,393 1980,396 1980,446 1278,443 582,439 347,439 188,443', '149,536 189,499 652,506 1034,506 1463,504 1948,508 1948,558 1463,554 1034,556 652,556 188,549', '141,676 202,639 682,633 1291,639 2028,648 2027,698 1291,689 682,683 203,689', '164,821 168,790 206,777 838,777 1002,777 1630,788 1991,788 1991,838 1630,838 1002,827 838,827 206,827', '166,927 177,893 214,885 586,903 1023,899 1473,912 1981,919 1980,969 1472,962 1023,949 585,953 212,935', '143,1022 212,994 697,1014 1376,1034 2022,1037 2022,1087 1375,1084 695,1064 210,1044', '138,1127 198,1110 735,1121 1448,1135 2009,1137 2009,1187 1447,1185 734,1171 197,1160', '138,1262 184,1216 570,1225 1055,1234 1633,1245 1948,1257 1946,1307 1632,1295 1054,1284 569,1275 183,1266', '146,1371 144,1333 246,1324 638,1340 1389,1358 1388,1408 637,1390 244,1374', '1132,1520 1128,1489 1194,1480 1649,1500 1971,1505 1970,1555 1648,1550 1192,1530', '1172,1654 1171,1634 1273,1609 1932,1636 1930,1686 1271,1659', '1466,1762 1542,1733 1707,1744 1704,1794 1539,1783', '256,1853 253,1833 387,1819 947,1837 1528,1857 2014,1884 2011,1934 1526,1907 946,1887 386,1869', '129,1956 193,1931 554,1952 651,1952 1286,1976 1284,2026 650,2002 553,2002 190,1981', '971,2132 968,2103 1028,2096 1465,2110 1833,2128 1831,2178 1463,2160 1027,2146', '987,2255 990,2229 1054,2216 1368,2227 1435,2232 1965,2247 1964,2297 1433,2282 1366,2277 1052,2266', '136,2351 192,2308 455,2322 453,2372 190,2358', '160,2435 211,2414 627,2436 678,2430 952,2461 946,2511 678,2480 629,2486 209,2464', '157,2598 155,2568 210,2556 543,2571 1058,2583 1057,2633 541,2621 208,2606', '203,2700 252,2681 448,2693 519,2691 838,2701 837,2751 519,2741 447,2743 249,2731', '292,2801 459,2815 515,2815 805,2822 804,2872 514,2865 457,2865 288,2851', '141,2957 206,2930 601,2932 1931,2962 1930,3012 600,2982 206,2980', '141,3086 207,3058 694,3064 766,3056 1354,3087 2000,3093 2000,3143 1353,3137 767,3106 696,3114 206,3108', '124,3208 185,3181 662,3187 1391,3203 2003,3213 2002,3263 1390,3253 661,3237 184,3231', '131,3347 187,3313 492,3317 586,3315 1164,3332 1252,3332 2023,3350 2022,3400 1251,3382 1163,3382 586,3365 492,3367 186,3363', '143,3470 199,3442 775,3456 1521,3464 2019,3479 2018,3529 1520,3514 774,3506 198,3492', '127,3594 190,3559 446,3569 1072,3579 1703,3594 1991,3594 1991,3644 1702,3644 1071,3629 445,3619 188,3609', '155,3707 155,3677 212,3663 445,3675 789,3690 1242,3694 1578,3702 1949,3706 1949,3756 1577,3752 1241,3744 788,3740 443,3725 210,3713', '147,3860 145,3827 204,3808 536,3820 1058,3822 1519,3836 1994,3843 1993,3893 1518,3886 1057,3872 535,3870 202,3858', '159,3956 198,3932 552,3932 655,3938 1153,3953 1651,3949 1990,3957 1989,4007 1651,3999 1153,4003 653,3988 551,3982 198,3982', '160,4085 223,4057 623,4057 1140,4069 1747,4073 1982,4067 1983,4117 1747,4123 1139,4119 622,4107 223,4107']\n",
            "\t (34 objects)\n"
          ]
        }
      ]
    },
    {
      "cell_type": "code",
      "source": [],
      "metadata": {
        "id": "Y7BSBe6cbWUw"
      },
      "execution_count": 4,
      "outputs": []
    }
  ],
  "metadata": {
    "accelerator": "GPU",
    "colab": {
      "provenance": []
    },
    "gpuClass": "standard",
    "kernelspec": {
      "display_name": "Python 3",
      "name": "python3"
    },
    "language_info": {
      "name": "python"
    }
  },
  "nbformat": 4,
  "nbformat_minor": 0
}