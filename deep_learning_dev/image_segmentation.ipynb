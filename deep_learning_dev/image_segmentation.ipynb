{
 "cells": [
  {
   "cell_type": "code",
   "execution_count": 1,
   "id": "1a749fb6-3734-4009-88b8-9c6c371092a5",
   "metadata": {},
   "outputs": [],
   "source": [
    "from deep_learning_lab.data_preparation import Orchestrator\n",
    "from deep_learning_lab.model import Trainer, Predictor\n",
    "import deep_learning_lab.gpu_setup as gpu\n",
    "\n",
    "from PIL import Image\n",
    "import matplotlib.pyplot as plt\n",
    "import os"
   ]
  },
  {
   "cell_type": "markdown",
   "id": "FUTemTM5pa-w",
   "metadata": {
    "id": "FUTemTM5pa-w",
    "tags": []
   },
   "source": [
    "# Training data preparation"
   ]
  },
  {
   "cell_type": "markdown",
   "id": "x0mXqhPMp6cQ",
   "metadata": {
    "id": "x0mXqhPMp6cQ"
   },
   "source": [
    "## Download datasets"
   ]
  },
  {
   "cell_type": "code",
   "execution_count": null,
   "id": "xw7W59vsIg3s",
   "metadata": {
    "colab": {
     "base_uri": "https://localhost:8080/"
    },
    "id": "xw7W59vsIg3s",
    "outputId": "d2059742-f80a-4967-cd25-ce754c4a6a0d"
   },
   "outputs": [],
   "source": [
    "\"\"\"\n",
    "%%sh\n",
    "cat download_data.sh\n",
    "./download_data.sh\n",
    "\"\"\""
   ]
  },
  {
   "cell_type": "markdown",
   "id": "uKAZHoFLp-ck",
   "metadata": {
    "id": "uKAZHoFLp-ck"
   },
   "source": [
    "## Patch the datasets"
   ]
  },
  {
   "cell_type": "code",
   "execution_count": 3,
   "id": "df6c1c43-97ab-44d3-9777-793a7f49e395",
   "metadata": {},
   "outputs": [
    {
     "data": {
      "text/plain": [
       "dict_keys(['reid', 'fcr', 'bcs_a', 'bcs_b', 'bcs_e', 'bcs_h', 'bcs_n', 'bcs_s', 'bcs_u', 'bcs_un', 'bcc_a', 'bcc_b', 'bcc_bh', 'bcc_e', 'bcc_h', 'bcc_n', 'bcc_s', 'bcc_u', 'bcc_un'])"
      ]
     },
     "execution_count": 3,
     "metadata": {},
     "output_type": "execute_result"
    }
   ],
   "source": [
    "Orchestrator.DATASETS.keys()"
   ]
  },
  {
   "cell_type": "code",
   "execution_count": null,
   "id": "c96c3e57-de71-42ff-a68a-a0b2f4311600",
   "metadata": {},
   "outputs": [],
   "source": [
    "sets_labels = [['ImageRegion'], ['TextLine'], ['TextRegion']] # Atomic labels are to be promoted\n",
    "\n",
    "# Create an instance of Orchestrator and specify the output directory structure\n",
    "orch = Orchestrator(\n",
    "    output_structure= {'dir_data': \"training_data\",\n",
    "                       'dir_images': \"images\",\n",
    "                       'dir_labels': \"labels\"}\n",
    ")\n",
    "\n",
    "# Ingest any datasets and add default settings\n",
    "orch.ingestDatasets(\n",
    "    datasets= [],\n",
    "    add_defaults= True\n",
    ")\n",
    "\n",
    "# Loop through each set of labels\n",
    "for set_labels in sets_labels:\n",
    "    # Ingest the labels and prompt for additional labels if needed\n",
    "    orch.ingestLabels(\n",
    "        uniform_set_labels= set_labels,\n",
    "        prompt= False\n",
    "    )\n",
    "    \n",
    "    # Validate the labels automatically and suppress verbose output\n",
    "    orch.validate(\n",
    "        auto_yes= True,\n",
    "        verbose= 0\n",
    "    )\n",
    "    \n",
    "    # Preprocess the data by resizing images and labels\n",
    "    orch.preprocess(\n",
    "        resize= (841, 1188), # To have 1e6 pixels and tensors of same size\n",
    "        overwrite= False,\n",
    "        verbose= 2\n",
    "    )\n",
    "\n",
    "    print()"
   ]
  },
  {
   "cell_type": "markdown",
   "id": "7jNGdu-mow2R",
   "metadata": {
    "id": "7jNGdu-mow2R"
   },
   "source": [
    "# Deep learning lab"
   ]
  },
  {
   "cell_type": "code",
   "execution_count": 2,
   "id": "1147e6c0-294f-459f-b759-953a21f9033b",
   "metadata": {},
   "outputs": [
    {
     "name": "stdout",
     "output_type": "stream",
     "text": [
      "Torch (1.12.1)\n",
      "CUDA (11.3)\n",
      "GPU (RTX A6000)\n",
      "CUDA memory (48.69 GB)\n"
     ]
    }
   ],
   "source": [
    "# Select a CUDA device to use for computation\n",
    "gpu.cudaDeviceSelection(preselected_device= 0)\n",
    "\n",
    "# Print information about the selected CUDA device\n",
    "print(gpu.cudaInfo())"
   ]
  },
  {
   "cell_type": "markdown",
   "id": "25b9589b-2b0c-433e-b81d-559962d143c7",
   "metadata": {
    "id": "GH7zWNcfqlt7",
    "tags": []
   },
   "source": [
    "## Training"
   ]
  },
  {
   "cell_type": "code",
   "execution_count": 3,
   "id": "8089c6a4-f5a8-4b38-980d-0f040a8b3650",
   "metadata": {},
   "outputs": [],
   "source": [
    "labels = ['TextLine']"
   ]
  },
  {
   "cell_type": "code",
   "execution_count": 4,
   "id": "4b9da508-e1a2-4484-95d7-b2e65012cbd7",
   "metadata": {},
   "outputs": [],
   "source": [
    "trainer = Trainer(\n",
    "    labels, # a list of labels for the training data\n",
    "    input_dir= \"training_data\", # the directory where the training data is stored\n",
    "    working_dir= \"results\", # the directory where results will be saved\n",
    "    train_ratio= 0.80, # the ratio of data to be used for training\n",
    "    val_ratio= 0.10 # the ratio of data to be used for validation\n",
    ")"
   ]
  },
  {
   "cell_type": "code",
   "execution_count": null,
   "id": "sreWMA6GNVfV",
   "metadata": {
    "id": "sreWMA6GNVfV"
   },
   "outputs": [],
   "source": [
    "# Load the TensorBoard notebook extension\n",
    "%load_ext tensorboard\n",
    "\n",
    "tensorboard_dir = trainer.tensorboard_dir\n",
    "!echo $tensorboard_dir\n",
    "!rm -r $tensorboard_dir & mkdir -p $tensorboard_dir\n",
    "%tensorboard --logdir $tensorboard_dir"
   ]
  },
  {
   "cell_type": "code",
   "execution_count": null,
   "id": "56bc8794-d6bf-44cb-8d02-aaab32cb17eb",
   "metadata": {
    "id": "56bc8794-d6bf-44cb-8d02-aaab32cb17eb"
   },
   "outputs": [],
   "source": [
    "trainer.train(\n",
    "    batch_size= 4, # the number of samples to use in each batch during training\n",
    "    epochs= 100, # the number of epochs to train the model for\n",
    "    learning_rate= 1e-4, # the rate at which the model adjusts its weights during training\n",
    "    gamma_exp_lr= 0.9995, # the decay rate for the learning rate during training\n",
    "    evaluate_every_epoch= 5, # how often to evaluate the model on the validation set during training\n",
    "    val_patience= 4, # how many epochs to wait for improvement in validation loss before early stopping\n",
    "    repeat_dataset= 4, # how many times to repeat the training data during each epoch\n",
    "    output_size= 1e6 # the size of the images\n",
    ")"
   ]
  },
  {
   "cell_type": "markdown",
   "id": "3540b081-b034-47eb-957c-208e07c395fb",
   "metadata": {},
   "source": [
    "## Inference"
   ]
  },
  {
   "cell_type": "code",
   "execution_count": null,
   "id": "70af0d53-d5d2-4329-a83f-7db757498833",
   "metadata": {},
   "outputs": [],
   "source": [
    "labels = ['TextLine']"
   ]
  },
  {
   "cell_type": "code",
   "execution_count": null,
   "id": "f3697f33-5142-4f1c-9e0f-4a1d4933eb38",
   "metadata": {},
   "outputs": [],
   "source": [
    "predictor = Predictor(\n",
    "    labels, # a list of labels for the predicted classes\n",
    "    input_dir= 'inference_data', # the directory containing the input images to predict on\n",
    "    working_dir= \"results\", # the directory where results will be saved\n",
    "    output_dir= None, # the directory to save the predicted images to (if None, saves to 'predictions')\n",
    "    output_size= None, # the size of the predicted images (if None, uses input image size)\n",
    "    from_csv= os.path.join('training_data', 'test.csv'), # is the path to a CSV file with input image paths and labels\n",
    "    reset_from_csv= True # whether to reset the input before starting the predictor\n",
    ")\n",
    "\n",
    "results = predictor.start(\n",
    "    batch_size= 4, # the number of images to process at once\n",
    "    drawRegions= True, # whether to draw regions on the images\n",
    "    cutVignettes= True, # whether to cut out vignettes from the images\n",
    "    bounding_box= False, # whether to use a bounding box or a polygon around the predicted regions\n",
    "    verbose= True # whether to print status messages\n",
    ")"
   ]
  },
  {
   "cell_type": "markdown",
   "id": "78483179-3e4d-4b97-958b-c3398e00313a",
   "metadata": {},
   "source": [
    "## Tests"
   ]
  },
  {
   "cell_type": "code",
   "execution_count": null,
   "id": "012ef761-25f7-4791-af0f-1476d9e70164",
   "metadata": {},
   "outputs": [],
   "source": [
    "assert len(results)"
   ]
  },
  {
   "cell_type": "code",
   "execution_count": null,
   "id": "5780fb90-4464-433a-920a-c3d8a64118c7",
   "metadata": {},
   "outputs": [],
   "source": [
    "results[0].keys()"
   ]
  },
  {
   "cell_type": "code",
   "execution_count": null,
   "id": "54ddce73-5c88-4d50-aff6-22b992d6aa4d",
   "metadata": {},
   "outputs": [],
   "source": [
    "image_nb = 0\n",
    "predictions = results[image_nb]"
   ]
  },
  {
   "cell_type": "code",
   "execution_count": null,
   "id": "b8bb5439-2e26-486a-b631-0dddd259d2d0",
   "metadata": {},
   "outputs": [],
   "source": [
    "# Show the regions found on the original image\n",
    "Image.fromarray(predictions['regions'])"
   ]
  },
  {
   "cell_type": "code",
   "execution_count": null,
   "id": "2d0d0625-babd-472e-9fe2-20f12b469279",
   "metadata": {},
   "outputs": [],
   "source": [
    "# Show the probability map of the class 1\n",
    "Image.fromarray(predictions['probasMaps'][1])"
   ]
  },
  {
   "cell_type": "code",
   "execution_count": null,
   "id": "f8f8995f-f99a-47e7-bc7f-9697c0e105ae",
   "metadata": {},
   "outputs": [],
   "source": [
    "# Show the regions found\n",
    "for it, vignette in enumerate(predictions['vignettes']):\n",
    "    plt.imshow(Image.fromarray(vignette))\n",
    "    plt.show()\n",
    "    if it == 10: break"
   ]
  },
  {
   "cell_type": "code",
   "execution_count": null,
   "id": "7e41e1cf-687a-4e6c-97dc-44c0c9911176",
   "metadata": {},
   "outputs": [],
   "source": []
  }
 ],
 "metadata": {
  "accelerator": "GPU",
  "colab": {
   "provenance": []
  },
  "gpuClass": "standard",
  "kernelspec": {
   "display_name": "Python 3 (ipykernel)",
   "language": "python",
   "name": "python3"
  },
  "language_info": {
   "codemirror_mode": {
    "name": "ipython",
    "version": 3
   },
   "file_extension": ".py",
   "mimetype": "text/x-python",
   "name": "python",
   "nbconvert_exporter": "python",
   "pygments_lexer": "ipython3",
   "version": "3.7.16"
  }
 },
 "nbformat": 4,
 "nbformat_minor": 5
}
