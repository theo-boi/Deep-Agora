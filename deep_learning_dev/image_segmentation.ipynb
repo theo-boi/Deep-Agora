{
 "cells": [
  {
   "cell_type": "markdown",
   "id": "FUTemTM5pa-w",
   "metadata": {
    "id": "FUTemTM5pa-w",
    "tags": []
   },
   "source": [
    "# Training data preparation"
   ]
  },
  {
   "cell_type": "markdown",
   "id": "x0mXqhPMp6cQ",
   "metadata": {
    "id": "x0mXqhPMp6cQ"
   },
   "source": [
    "## Download datasets"
   ]
  },
  {
   "cell_type": "code",
   "execution_count": null,
   "id": "xw7W59vsIg3s",
   "metadata": {
    "colab": {
     "base_uri": "https://localhost:8080/"
    },
    "id": "xw7W59vsIg3s",
    "outputId": "d2059742-f80a-4967-cd25-ce754c4a6a0d"
   },
   "outputs": [],
   "source": [
    "\"\"\"\n",
    "%%sh\n",
    "cat download_data.sh\n",
    "./download_data.sh\n",
    "\"\"\""
   ]
  },
  {
   "cell_type": "markdown",
   "id": "uKAZHoFLp-ck",
   "metadata": {
    "id": "uKAZHoFLp-ck"
   },
   "source": [
    "## Patch the datasets"
   ]
  },
  {
   "cell_type": "code",
   "execution_count": null,
   "id": "df6c1c43-97ab-44d3-9777-793a7f49e395",
   "metadata": {},
   "outputs": [],
   "source": [
    "from deep_learning_lab.data_preparation import Orchestrator, DataStructure\n",
    "\n",
    "Orchestrator.DATASETS.keys()"
   ]
  },
  {
   "cell_type": "code",
   "execution_count": null,
   "id": "c96c3e57-de71-42ff-a68a-a0b2f4311600",
   "metadata": {},
   "outputs": [],
   "source": [
    "sets_labels = [['ImageRegion'], ['TextLine'], ['TextRegion']] # Atomic labels are to be promoted\n",
    "\n",
    "orc = Orchestrator(\n",
    "    output_structure= DataStructure(dir_data= \"training_data\",\n",
    "                                    dir_images= \"images\",\n",
    "                                    dir_labels= \"labels\")\n",
    ")\n",
    "\n",
    "orc.ingestDatasets(\n",
    "    datasets= [],\n",
    "    add_defaults= True\n",
    ")\n",
    "\n",
    "for set_labels in sets_labels:\n",
    "    orc.ingestLabels(\n",
    "        uniform_set_labels= set_labels,\n",
    "        prompt= False\n",
    "    )\n",
    "    orc.validate(\n",
    "        auto_yes= True,\n",
    "        verbose= 1\n",
    "    )\n",
    "    orc.preprocess(\n",
    "        resize= (1188, 841), # To have 1e6 pixels and tensors of same size\n",
    "        overwrite= True,\n",
    "        verbose= 2\n",
    "    )\n",
    "    print()"
   ]
  },
  {
   "cell_type": "markdown",
   "id": "7jNGdu-mow2R",
   "metadata": {
    "id": "7jNGdu-mow2R"
   },
   "source": [
    "# Deep learning lab"
   ]
  },
  {
   "cell_type": "code",
   "execution_count": null,
   "id": "1147e6c0-294f-459f-b759-953a21f9033b",
   "metadata": {},
   "outputs": [],
   "source": [
    "import deep_learning_lab.gpu_setup as gpu\n",
    "\n",
    "gpu.cudaDeviceSelection(preselected_device= 0)\n",
    "print(gpu.cudaInfo())"
   ]
  },
  {
   "cell_type": "markdown",
   "id": "25b9589b-2b0c-433e-b81d-559962d143c7",
   "metadata": {
    "id": "GH7zWNcfqlt7",
    "tags": []
   },
   "source": [
    "## Training"
   ]
  },
  {
   "cell_type": "code",
   "execution_count": null,
   "id": "8089c6a4-f5a8-4b38-980d-0f040a8b3650",
   "metadata": {},
   "outputs": [],
   "source": [
    "labels = ['TextRegion']"
   ]
  },
  {
   "cell_type": "code",
   "execution_count": null,
   "id": "4b9da508-e1a2-4484-95d7-b2e65012cbd7",
   "metadata": {},
   "outputs": [],
   "source": [
    "from deep_learning_lab import model\n",
    "\n",
    "trainer = model.Trainer(labels)"
   ]
  },
  {
   "cell_type": "code",
   "execution_count": null,
   "id": "sreWMA6GNVfV",
   "metadata": {
    "id": "sreWMA6GNVfV"
   },
   "outputs": [],
   "source": [
    "# Load the TensorBoard notebook extension\n",
    "%load_ext tensorboard\n",
    "\n",
    "tensorboard_dir = trainer.tensorboard_dir\n",
    "!echo $tensorboard_dir\n",
    "#!rm -r $tensorboard_dir & mkdir -p $tensorboard_dir\n",
    "%tensorboard --logdir $tensorboard_dir"
   ]
  },
  {
   "cell_type": "code",
   "execution_count": null,
   "id": "56bc8794-d6bf-44cb-8d02-aaab32cb17eb",
   "metadata": {
    "id": "56bc8794-d6bf-44cb-8d02-aaab32cb17eb"
   },
   "outputs": [],
   "source": [
    "trainer.train(\n",
    "    batch_size= 4,\n",
    "    epochs= 1,\n",
    "    learning_rate= 1e-4,\n",
    "    gamma_exp_lr= 0.9995,\n",
    "    evaluate_every_epoch= 5,\n",
    "    val_patience= 4,\n",
    "    repeat_dataset= 4,\n",
    "    output_size= 1e6\n",
    ")"
   ]
  },
  {
   "cell_type": "markdown",
   "id": "3540b081-b034-47eb-957c-208e07c395fb",
   "metadata": {},
   "source": [
    "## Inference"
   ]
  },
  {
   "cell_type": "code",
   "execution_count": null,
   "id": "70af0d53-d5d2-4329-a83f-7db757498833",
   "metadata": {},
   "outputs": [],
   "source": [
    "labels = ['TextLine']"
   ]
  },
  {
   "cell_type": "code",
   "execution_count": null,
   "id": "f3697f33-5142-4f1c-9e0f-4a1d4933eb38",
   "metadata": {},
   "outputs": [],
   "source": [
    "from deep_learning_lab import model\n",
    "import os\n",
    "\n",
    "predictor = model.Predictor(\n",
    "    labels,\n",
    "    input_dir= 'inference_data',\n",
    "    output_dir= None,\n",
    "    output_size= None,\n",
    "    from_csv= os.path.join('training_data', 'test.csv'),\n",
    "    reset_input= True\n",
    ")\n",
    "\n",
    "predictor.start(\n",
    "    batch_size= 4,\n",
    "    save_probas= True\n",
    ")\n",
    "#predictor.load()\n",
    "\n",
    "results = predictor.postProcess(\n",
    "    drawRegions= True,\n",
    "    cutVignettes= True,\n",
    "    bounding_box= False,\n",
    "    verbose= True\n",
    ")"
   ]
  },
  {
   "cell_type": "markdown",
   "id": "78483179-3e4d-4b97-958b-c3398e00313a",
   "metadata": {},
   "source": [
    "## Tests"
   ]
  },
  {
   "cell_type": "code",
   "execution_count": null,
   "id": "012ef761-25f7-4791-af0f-1476d9e70164",
   "metadata": {},
   "outputs": [],
   "source": [
    "# from matplotlib import pyplot as plt\n",
    "from PIL import Image\n",
    "import matplotlib.pyplot as plt\n",
    "\n",
    "assert len(results)"
   ]
  },
  {
   "cell_type": "code",
   "execution_count": null,
   "id": "5780fb90-4464-433a-920a-c3d8a64118c7",
   "metadata": {},
   "outputs": [],
   "source": [
    "results[0].keys()"
   ]
  },
  {
   "cell_type": "code",
   "execution_count": null,
   "id": "54ddce73-5c88-4d50-aff6-22b992d6aa4d",
   "metadata": {},
   "outputs": [],
   "source": [
    "image_nb = 0\n",
    "predictions = results[image_nb]"
   ]
  },
  {
   "cell_type": "code",
   "execution_count": null,
   "id": "b8bb5439-2e26-486a-b631-0dddd259d2d0",
   "metadata": {},
   "outputs": [],
   "source": [
    "Image.fromarray(predictions['regions'])"
   ]
  },
  {
   "cell_type": "code",
   "execution_count": null,
   "id": "2d0d0625-babd-472e-9fe2-20f12b469279",
   "metadata": {},
   "outputs": [],
   "source": [
    "Image.fromarray(predictions['probasMaps'][1])"
   ]
  },
  {
   "cell_type": "code",
   "execution_count": null,
   "id": "f8f8995f-f99a-47e7-bc7f-9697c0e105ae",
   "metadata": {},
   "outputs": [],
   "source": [
    "for _, vignette in enumerate(predictions['vignettes']):\n",
    "    plt.imshow(Image.fromarray(vignette))\n",
    "    plt.show()"
   ]
  },
  {
   "cell_type": "code",
   "execution_count": null,
   "id": "7e41e1cf-687a-4e6c-97dc-44c0c9911176",
   "metadata": {},
   "outputs": [],
   "source": []
  }
 ],
 "metadata": {
  "accelerator": "GPU",
  "colab": {
   "provenance": []
  },
  "gpuClass": "standard",
  "kernelspec": {
   "display_name": "Python 3 (ipykernel)",
   "language": "python",
   "name": "python3"
  },
  "language_info": {
   "codemirror_mode": {
    "name": "ipython",
    "version": 3
   },
   "file_extension": ".py",
   "mimetype": "text/x-python",
   "name": "python",
   "nbconvert_exporter": "python",
   "pygments_lexer": "ipython3",
   "version": "3.7.16"
  }
 },
 "nbformat": 4,
 "nbformat_minor": 5
}
